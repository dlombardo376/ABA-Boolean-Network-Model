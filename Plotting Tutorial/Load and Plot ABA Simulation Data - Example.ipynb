{
 "cells": [
  {
   "cell_type": "code",
   "execution_count": 1,
   "metadata": {
    "collapsed": true
   },
   "outputs": [],
   "source": [
    "% matplotlib inline\n",
    "import json \n",
    "import matplotlib.pyplot as plt\n",
    "from matplotlib.lines import Line2D\n"
   ]
  },
  {
   "cell_type": "markdown",
   "metadata": {
    "collapsed": true
   },
   "source": [
    "\n",
    "This tutorial requires the JSON library and Matplotlib library. The JSON library should be a default package in Python 2.6 and greater. \n",
    "\n",
    "The Matplotlib library is also required. This can be installed via pip with the command [*pip install matplotlib*].\n"
   ]
  },
  {
   "cell_type": "markdown",
   "metadata": {},
   "source": [
    "Loading JSON Output from *KnockoutSimulations.py*"
   ]
  },
  {
   "cell_type": "code",
   "execution_count": 2,
   "metadata": {},
   "outputs": [],
   "source": [
    "json_data = open('knockouts.json')\n",
    "knockout_data = json.load(json_data)"
   ]
  },
  {
   "cell_type": "markdown",
   "metadata": {},
   "source": [
    "The JSON output is loaded as a nested dictionary. The highest level of keys correspond to the specified Knockout target nodes in *knockouts.json*"
   ]
  },
  {
   "cell_type": "code",
   "execution_count": 3,
   "metadata": {},
   "outputs": [
    {
     "data": {
      "text/plain": [
       "dict_keys(['ABA', 'pHc', 'PC', 'WT', 'RBOH', 'OST1'])"
      ]
     },
     "execution_count": 3,
     "metadata": {},
     "output_type": "execute_result"
    }
   ],
   "source": [
    "knockout_data.keys()"
   ]
  },
  {
   "cell_type": "markdown",
   "metadata": {},
   "source": [
    "For each target Node:\n",
    "\n",
    "* There is a dictionary:\n",
    "    * Key *'Closure AUC'* contains the AUC (area under the curve) value for the Closure Node\n",
    "    * Key *'TimeSteps'* is a dictionary containing the percentage of Closure at each timestep\n",
    " "
   ]
  },
  {
   "cell_type": "code",
   "execution_count": 4,
   "metadata": {},
   "outputs": [
    {
     "data": {
      "text/plain": [
       "{'Closure AUC': 23.9876,\n",
       " 'Timesteps': {'Closure': [0.0,\n",
       "   0.0004,\n",
       "   0.0016,\n",
       "   0.0236,\n",
       "   0.108,\n",
       "   0.2676,\n",
       "   0.468,\n",
       "   0.6508,\n",
       "   0.7776,\n",
       "   0.8684,\n",
       "   0.9228,\n",
       "   0.9508,\n",
       "   0.9752,\n",
       "   0.9868,\n",
       "   0.9944,\n",
       "   0.996,\n",
       "   0.9968,\n",
       "   0.9988,\n",
       "   1.0,\n",
       "   1.0,\n",
       "   1.0,\n",
       "   1.0,\n",
       "   1.0,\n",
       "   1.0,\n",
       "   1.0,\n",
       "   1.0,\n",
       "   1.0,\n",
       "   1.0,\n",
       "   1.0,\n",
       "   1.0,\n",
       "   1.0]}}"
      ]
     },
     "execution_count": 4,
     "metadata": {},
     "output_type": "execute_result"
    }
   ],
   "source": [
    "# Data for knockout Target 'WT'\n",
    "knockout_data['WT']"
   ]
  },
  {
   "cell_type": "code",
   "execution_count": 5,
   "metadata": {},
   "outputs": [
    {
     "data": {
      "text/plain": [
       "23.9876"
      ]
     },
     "execution_count": 5,
     "metadata": {},
     "output_type": "execute_result"
    }
   ],
   "source": [
    "# AUC for knockout Target 'WT'\n",
    "knockout_data['WT']['Closure AUC']"
   ]
  },
  {
   "cell_type": "code",
   "execution_count": 6,
   "metadata": {},
   "outputs": [
    {
     "data": {
      "text/plain": [
       "[0.0,\n",
       " 0.0004,\n",
       " 0.0016,\n",
       " 0.0236,\n",
       " 0.108,\n",
       " 0.2676,\n",
       " 0.468,\n",
       " 0.6508,\n",
       " 0.7776,\n",
       " 0.8684,\n",
       " 0.9228,\n",
       " 0.9508,\n",
       " 0.9752,\n",
       " 0.9868,\n",
       " 0.9944,\n",
       " 0.996,\n",
       " 0.9968,\n",
       " 0.9988,\n",
       " 1.0,\n",
       " 1.0,\n",
       " 1.0,\n",
       " 1.0,\n",
       " 1.0,\n",
       " 1.0,\n",
       " 1.0,\n",
       " 1.0,\n",
       " 1.0,\n",
       " 1.0,\n",
       " 1.0,\n",
       " 1.0,\n",
       " 1.0]"
      ]
     },
     "execution_count": 6,
     "metadata": {},
     "output_type": "execute_result"
    }
   ],
   "source": [
    "# Timeseries information for knockout target 'WT'\n",
    "knockout_data['WT']['Timesteps']['Closure']"
   ]
  },
  {
   "cell_type": "markdown",
   "metadata": {},
   "source": [
    "This is an example plotting function for plotting percent Closure per timestep:"
   ]
  },
  {
   "cell_type": "code",
   "execution_count": 7,
   "metadata": {
    "collapsed": true
   },
   "outputs": [],
   "source": [
    "def make_plot( knockout_data, knockouts):\n",
    "    \n",
    "    \"\"\"\n",
    "    :param knockout_data: The KnockoutSimulations.py JSON Output loaded with the JSON module\n",
    "\n",
    "    :param knockout: A list of knockout targets to plot\n",
    "\n",
    "    :return knockout_plot.png: The knockout plot as a png file.\n",
    "    \"\"\"\n",
    "    # List all potential Matplotlib Markers\n",
    "    markers = list(Line2D.markers.keys())\n",
    "    # Remove Pixel Markers. Too small to notice\n",
    "    markers.remove(',')\n",
    "    # Pull required amount of markers\n",
    "    markers = markers[:len(knockouts)]\n",
    "    # Map marker to gene\n",
    "    knockout_mark = list(zip(knockouts, markers))\n",
    "    # Plots the effect of Knockout on Closure\n",
    "    plt.figure(figsize=(12,9))\n",
    "    coll = []\n",
    "    \n",
    "    # Iterate through each knockout\n",
    "    # Pull timeseries from data\n",
    "    # plot with marker\n",
    "    for target in knockout_mark:\n",
    "        timeseries = knockout_data[target[0]]['Timesteps']['Closure']\n",
    "        p = plt.plot( timeseries, linestyle='-', marker=target[1])\n",
    "        coll.append( p )\n",
    "\n",
    "    plt.legend(knockouts, loc='best' )\n",
    "    plt.title( 'Effect of mutations on Closure' )\n",
    "    plt.xlabel( 'Time Steps' )\n",
    "    plt.ylabel( 'Percent' )\n",
    "    plt.ylim( (0, 1.1) )\n",
    "    plt.savefig(\"knockout_plot.png\")\n",
    "    plt.show()"
   ]
  },
  {
   "cell_type": "code",
   "execution_count": 8,
   "metadata": {
    "scrolled": false
   },
   "outputs": [
    {
     "data": {
      "image/png": "[encoded data removed]",
      "text/plain": [
       "<matplotlib.figure.Figure at 0x1071e70b8>"
      ]
     },
     "metadata": {},
     "output_type": "display_data"
    }
   ],
   "source": [
    "make_plot(knockout_data, knockouts= knockout_data.keys() )"
   ]
  }
 ],
 "metadata": {
  "kernelspec": {
   "display_name": "Python 3",
   "language": "python",
   "name": "python3"
  },
  "language_info": {
   "codemirror_mode": {
    "name": "ipython",
    "version": 3
   },
   "file_extension": ".py",
   "mimetype": "text/x-python",
   "name": "python",
   "nbconvert_exporter": "python",
   "pygments_lexer": "ipython3",
   "version": "3.6.3"
  }
 },
 "nbformat": 4,
 "nbformat_minor": 2
}
